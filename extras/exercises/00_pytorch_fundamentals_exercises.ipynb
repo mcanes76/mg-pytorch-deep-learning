{
  "nbformat": 4,
  "nbformat_minor": 0,
  "metadata": {
    "colab": {
      "provenance": [],
      "gpuType": "T4"
    },
    "kernelspec": {
      "name": "python3",
      "display_name": "Python 3"
    },
    "language_info": {
      "name": "python"
    },
    "accelerator": "GPU"
  },
  "cells": [
    {
      "cell_type": "code",
      "execution_count": null,
      "metadata": {
        "id": "03R0w_pGP3BE"
      },
      "outputs": [],
      "source": []
    },
    {
      "cell_type": "markdown",
      "source": [
        "#00.PyTorch Fundamentals Exercises\n",
        "##1. Documentation reading\n",
        "A big part of deep learning (and learning to code in general) is getting familiar with the documentation of a certain framework you're using.  We'll be using PyTorch documentation a lot throughout the rest of this course. So I'd recommend spedning 10-minutes reading the following (it's okay if you don't get some things for now, the focus is not yet full understanding, it's awareness):\n",
        "\n",
        "- The documentation on `torch.Tensor': https://pytorch.org/docs/stable/tensors.html#torch-tensor\n",
        "\n",
        "- The documentation on 'torch.cuda': https://pytorch.org/docs/master/notes/cuda.html#cuda-semantics"
      ],
      "metadata": {
        "id": "VZFlxbOcQHXE"
      }
    },
    {
      "cell_type": "code",
      "source": [
        "# No code as the assignment is to read the documentation in the links"
      ],
      "metadata": {
        "id": "XjuFyv4KUaL5"
      },
      "execution_count": null,
      "outputs": []
    },
    {
      "cell_type": "markdown",
      "source": [
        "#2. Create a random tensor with shape (7,7)"
      ],
      "metadata": {
        "id": "sg4iRjD4UhkR"
      }
    },
    {
      "cell_type": "code",
      "source": [
        "# Import torch\n",
        "import torch\n",
        "\n",
        "# Create random tensor\n",
        "T1_rand = torch.rand(7,7)\n",
        "print(T1_rand)"
      ],
      "metadata": {
        "colab": {
          "base_uri": "https://localhost:8080/"
        },
        "id": "V3ZZ2cLuV8sa",
        "outputId": "ad0df40e-06f5-45d6-c1c9-352c92560fa6"
      },
      "execution_count": 5,
      "outputs": [
        {
          "output_type": "stream",
          "name": "stdout",
          "text": [
            "tensor([[0.6645, 0.7183, 0.8554, 0.7040, 0.5511, 0.4463, 0.0911],\n",
            "        [0.2174, 0.3646, 0.0917, 0.8927, 0.5832, 0.4595, 0.4348],\n",
            "        [0.3601, 0.0011, 0.4529, 0.6208, 0.1518, 0.9934, 0.5268],\n",
            "        [0.3578, 0.2817, 0.8870, 0.6805, 0.8788, 0.6338, 0.4643],\n",
            "        [0.3128, 0.9499, 0.3349, 0.6560, 0.5388, 0.4328, 0.9804],\n",
            "        [0.8186, 0.0669, 0.8932, 0.6890, 0.1348, 0.3924, 0.5374],\n",
            "        [0.0077, 0.5913, 0.1057, 0.0561, 0.0583, 0.0074, 0.0239]])\n"
          ]
        }
      ]
    },
    {
      "cell_type": "markdown",
      "source": [
        "#3. Perform a matrix multiplication on the tensor from 2 with another random tensor with shape (1,7) (hint: you may need to transpose the second tensor)."
      ],
      "metadata": {
        "id": "dgrWzWRLWv1l"
      }
    },
    {
      "cell_type": "code",
      "source": [
        "# Create another random tensor\n",
        "T2_rand = torch.rand(1,7)\n",
        "T2_rand\n",
        "\n",
        "# Perform matrix multiplication\n",
        "T3_matmult = torch.matmul(T1_rand, T2_rand.T)\n",
        "T3_matmult"
      ],
      "metadata": {
        "colab": {
          "base_uri": "https://localhost:8080/"
        },
        "id": "8SV0CL1HXCwc",
        "outputId": "05ccf8c1-f6b0-4f24-d36a-55891e4ae443"
      },
      "execution_count": 10,
      "outputs": [
        {
          "output_type": "execute_result",
          "data": {
            "text/plain": [
              "tensor([[1.9794],\n",
              "        [1.3091],\n",
              "        [1.1908],\n",
              "        [1.6349],\n",
              "        [2.2597],\n",
              "        [1.6014],\n",
              "        [0.6414]])"
            ]
          },
          "metadata": {},
          "execution_count": 10
        }
      ]
    },
    {
      "cell_type": "markdown",
      "source": [
        "#4. Set the random seed to `0` and do 2 & 3 over again\n",
        "\n",
        "The output should be:\n",
        "\n",
        "(tensor([[1.8542],\n",
        "         [1.9611],\n",
        "         [2.2884],\n",
        "         [3.0481],\n",
        "         [1.7067],\n",
        "         [2.5290],\n",
        "         [1.7989]]), torch.Size([7, 1]))"
      ],
      "metadata": {
        "id": "H_pAOuxSYadX"
      }
    },
    {
      "cell_type": "code",
      "source": [
        "# Set the manual seed\n",
        "RANDOM_SEED = 0\n",
        "torch.manual_seed(RANDOM_SEED)\n",
        "\n",
        "T1_randS0 = torch.rand(7,7)\n",
        "print(f\"T1_randS0 = {T1_randS0}\")\n",
        "\n",
        "T2_randS0 = torch.rand(1,7)\n",
        "print(f\"T2_randS0 = {T2_randS0}\")\n",
        "\n",
        "T3_matmultS0 = torch.matmul(T1_randS0, T2_randS0.T)\n",
        "print(f\"T3_matmultS0 = {T3_matmultS0}\")"
      ],
      "metadata": {
        "colab": {
          "base_uri": "https://localhost:8080/"
        },
        "id": "VyLgIMEsYpw2",
        "outputId": "a0022de8-63aa-4b8c-fabe-5fd206d7f5af"
      },
      "execution_count": 13,
      "outputs": [
        {
          "output_type": "stream",
          "name": "stdout",
          "text": [
            "T1_randS0 = tensor([[0.4963, 0.7682, 0.0885, 0.1320, 0.3074, 0.6341, 0.4901],\n",
            "        [0.8964, 0.4556, 0.6323, 0.3489, 0.4017, 0.0223, 0.1689],\n",
            "        [0.2939, 0.5185, 0.6977, 0.8000, 0.1610, 0.2823, 0.6816],\n",
            "        [0.9152, 0.3971, 0.8742, 0.4194, 0.5529, 0.9527, 0.0362],\n",
            "        [0.1852, 0.3734, 0.3051, 0.9320, 0.1759, 0.2698, 0.1507],\n",
            "        [0.0317, 0.2081, 0.9298, 0.7231, 0.7423, 0.5263, 0.2437],\n",
            "        [0.5846, 0.0332, 0.1387, 0.2422, 0.8155, 0.7932, 0.2783]])\n",
            "T2_randS0 = tensor([[0.4820, 0.8198, 0.9971, 0.6984, 0.5675, 0.8352, 0.2056]])\n",
            "T3_matmultS0 = tensor([[1.8542],\n",
            "        [1.9611],\n",
            "        [2.2884],\n",
            "        [3.0481],\n",
            "        [1.7067],\n",
            "        [2.5290],\n",
            "        [1.7989]])\n"
          ]
        }
      ]
    },
    {
      "cell_type": "markdown",
      "source": [
        "#5. Speaking of random seeds, we saw how to set it with `torch.manual_seed()` but is there a GPU equivalent? (hint: you'll need to look into the documentation for `torch.cuda` for this one)\n",
        "\n",
        "- If there is, set the GPU random seed to `1234`."
      ],
      "metadata": {
        "id": "bVUvyiBTaWL6"
      }
    },
    {
      "cell_type": "code",
      "source": [
        "# Set random seed on GPU\n",
        "import torch\n",
        "\n",
        "RANDOM_SEED_GPU = 1234\n",
        "RANDOM_SEED_CPU = 42\n",
        "\n",
        "torch.cuda.is_available()\n",
        "\n",
        "device = \"cuda\" if torch.cuda.is_available() else \"cpu\"\n",
        "\n",
        "if torch.cuda.is_available():\n",
        "  torch.manual_seed(RANDOM_SEED_GPU)\n",
        "else:\n",
        "  torch.use_deterministic_algorithms(True)\n",
        "  torch.manual_seed(RANDOM_SEED_CPU)\n",
        "\n",
        "print(device)\n",
        "print(torch.rand(2))"
      ],
      "metadata": {
        "colab": {
          "base_uri": "https://localhost:8080/"
        },
        "id": "mhZAbv7paz-B",
        "outputId": "459cd3bf-2f01-4372-98a9-f1b1f3db204c"
      },
      "execution_count": 29,
      "outputs": [
        {
          "output_type": "stream",
          "name": "stdout",
          "text": [
            "cpu\n",
            "tensor([0.8823, 0.9150])\n"
          ]
        }
      ]
    },
    {
      "cell_type": "markdown",
      "source": [
        "#6. Create two random tensors of shape `(2, 3)` and send them both to the GPU (you'll need access to a GPU for this).  Set `torch.manual_seed(1234)` when creating the tensors (this doesn't have to be the GPU random seed).  The output should be something like:\n",
        "\n",
        "Device: cuda\n",
        "(tensor([[0.0290, 0.4019, 0.2598],\n",
        "         [0.3666, 0.0583, 0.7006]], device='cuda:0'),\n",
        " tensor([[0.0518, 0.4681, 0.6738],\n",
        "         [0.3315, 0.7837, 0.5631]], device='cuda:0'))"
      ],
      "metadata": {
        "id": "OKBP0GVFh4go"
      }
    },
    {
      "cell_type": "code",
      "source": [
        "# Set the random seed\n",
        "import torch\n",
        "\n",
        "RANDOM_SEED_GPU = 1234\n",
        "RANDOM_SEED_CPU = 42\n",
        "\n",
        "# Check for access to GPU\n",
        "torch.cuda.is_available()\n",
        "\n",
        "device = \"cuda\" if torch.cuda.is_available() else \"cpu\"\n",
        "\n",
        "if torch.cuda.is_available():\n",
        "  torch.manual_seed(RANDOM_SEED_GPU)\n",
        "  print(\"GPU is available!\")\n",
        "  print(\"\")\n",
        "\n",
        "  # Create two random tensors on GPU\n",
        "  T1 = torch.rand(2,3)\n",
        "  T2 = torch.rand(2,3)\n",
        "  T1 = T1.to(device)\n",
        "  T2 = T2.to(device)\n",
        "else:\n",
        "  print(\"GPU not available\")\n",
        "  print(\"\")\n",
        "  torch.use_deterministic_algorithms(True)\n",
        "  torch.manual_seed(RANDOM_SEED_CPU)\n",
        "  T1 = torch.rand(2,3)\n",
        "  T2 = torch.rand(2,3)\n",
        "\n",
        "print(f\"T1 tensor = {T1} on {device}\")\n",
        "print(\"\")\n",
        "print(f\"T2 tensor = {T2} on {device}\")\n",
        "\n",
        "\n"
      ],
      "metadata": {
        "colab": {
          "base_uri": "https://localhost:8080/"
        },
        "id": "iTYSBM6LidXh",
        "outputId": "df450cc6-cd27-453c-9499-9320427e020e"
      },
      "execution_count": 56,
      "outputs": [
        {
          "output_type": "stream",
          "name": "stdout",
          "text": [
            "GPU not available\n",
            "\n",
            "T1 tensor = tensor([[0.8823, 0.9150, 0.3829],\n",
            "        [0.9593, 0.3904, 0.6009]]) on cpu\n",
            "\n",
            "T2 tensor = tensor([[0.2566, 0.7936, 0.9408],\n",
            "        [0.1332, 0.9346, 0.5936]]) on cpu\n"
          ]
        }
      ]
    },
    {
      "cell_type": "markdown",
      "source": [
        "#7. Perform a matrix multiplication on the tensors you created in 6 (again, you may have to adjust the shapes of the tensors.\n",
        "\n",
        "The output should look like:\n",
        "\n",
        "(tensor([[0.3647, 0.4709],\n",
        "         [0.5184, 0.5617]], device='cuda:0'), torch.Size([2, 2]))"
      ],
      "metadata": {
        "id": "kRnCO3PPm4Bb"
      }
    },
    {
      "cell_type": "code",
      "source": [
        "# Perform matmul on tensors T1 and T2\n",
        "T3 = torch.matmul(T1, T2.T)\n",
        "print(f\"Matrix Multiply of T1 and T2 = {T3} calculated on {device}, {T3.shape}\")"
      ],
      "metadata": {
        "colab": {
          "base_uri": "https://localhost:8080/"
        },
        "id": "LxqPK-vGnJGI",
        "outputId": "c2f818c3-0926-4774-b510-cbf996ff202a"
      },
      "execution_count": 47,
      "outputs": [
        {
          "output_type": "stream",
          "name": "stdout",
          "text": [
            "Matrix Multiply of T1 and T2 = tensor([[1.3127, 1.1999],\n",
            "        [1.1213, 0.8494]]) calculated on cpu, torch.Size([2, 2])\n"
          ]
        }
      ]
    },
    {
      "cell_type": "markdown",
      "source": [
        "#8. Find the maximum and minimum values of the output of 7."
      ],
      "metadata": {
        "id": "AQQm97_homfY"
      }
    },
    {
      "cell_type": "code",
      "source": [
        "# Find max\n",
        "print(f\"The maximum value of T3 = {torch.max(T3)}\")\n",
        "\n",
        "# Find min\n",
        "print(f\"The minimum value of T3 = {torch.min(T3)}\")"
      ],
      "metadata": {
        "colab": {
          "base_uri": "https://localhost:8080/"
        },
        "id": "g4fOWvJyotpb",
        "outputId": "761a88d8-9b3f-49c2-90f8-5e8d9d331113"
      },
      "execution_count": 49,
      "outputs": [
        {
          "output_type": "stream",
          "name": "stdout",
          "text": [
            "The maximum value of T3 = 1.312738299369812\n",
            "The minimum value of T3 = 0.8493574261665344\n"
          ]
        }
      ]
    },
    {
      "cell_type": "markdown",
      "source": [
        "#9. Find the index values for the maximum and minimum values of the output of 7."
      ],
      "metadata": {
        "id": "QIbS1pk5piNz"
      }
    },
    {
      "cell_type": "code",
      "source": [
        "# Find the arg max\n",
        "print(f\"The index of T3 for the maximum value = {T3.argmax()}\")\n",
        "\n",
        "# Find the arg min\n",
        "print(f\"The index of T3 for the minimum value = {T3.argmin()}\")"
      ],
      "metadata": {
        "colab": {
          "base_uri": "https://localhost:8080/"
        },
        "id": "Pfc8UgVKpsB1",
        "outputId": "f60c8d85-66b8-4f71-93e1-a98fb070eea4"
      },
      "execution_count": 52,
      "outputs": [
        {
          "output_type": "stream",
          "name": "stdout",
          "text": [
            "The index of T3 for the maximum value = 0\n",
            "The index of T3 for the minimum value = 3\n"
          ]
        }
      ]
    },
    {
      "cell_type": "markdown",
      "source": [
        "#10. Make a random tensor with shape `(1, 1, 1, 10)` and then create a new tensor with all the `1` dimensions removed to be left with a tensor of shape `10`.  Set the seed to `7` when you create it an print out the first tensor and it's shape as well as the second tensor and it's shape."
      ],
      "metadata": {
        "id": "D0hH-vBdqMwC"
      }
    },
    {
      "cell_type": "code",
      "source": [
        "# Set the seed\n",
        "RANDOM_SEED = 7\n",
        "torch.manual_seed(RANDOM_SEED)\n",
        "\n",
        "# Create random tensor\n",
        "T4 = torch.rand([1,1,1,10])\n",
        "print(f\"Random tensor T4 = {T4}, with shape of {T4.shape}\")\n",
        "\n",
        "# Remove single dimensions\n",
        "T5 = T4.squeeze()\n",
        "print(\"\")\n",
        "print(f\"T4 tensor squeezed to make T5 = {T5}, with shape of {T5.shape}\")"
      ],
      "metadata": {
        "colab": {
          "base_uri": "https://localhost:8080/"
        },
        "id": "RN0VpIIyquSU",
        "outputId": "64dddbed-5566-4ba0-c40a-1f3979d8742b"
      },
      "execution_count": 55,
      "outputs": [
        {
          "output_type": "stream",
          "name": "stdout",
          "text": [
            "Random tensor T4 = tensor([[[[0.5349, 0.1988, 0.6592, 0.6569, 0.2328, 0.4251, 0.2071, 0.6297,\n",
            "           0.3653, 0.8513]]]]), with shape of torch.Size([1, 1, 1, 10])\n",
            "\n",
            "T4 tensor squeezed to make T5 = tensor([0.5349, 0.1988, 0.6592, 0.6569, 0.2328, 0.4251, 0.2071, 0.6297, 0.3653,\n",
            "        0.8513]), with shape of torch.Size([10])\n"
          ]
        }
      ]
    }
  ]
}