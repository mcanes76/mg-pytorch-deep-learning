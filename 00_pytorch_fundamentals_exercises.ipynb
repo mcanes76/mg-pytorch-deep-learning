{
  "nbformat": 4,
  "nbformat_minor": 0,
  "metadata": {
    "colab": {
      "provenance": [],
      "authorship_tag": "ABX9TyNrkdUe63tHNQEQ2WfEuCya",
      "include_colab_link": true
    },
    "kernelspec": {
      "name": "python3",
      "display_name": "Python 3"
    },
    "language_info": {
      "name": "python"
    }
  },
  "cells": [
    {
      "cell_type": "markdown",
      "metadata": {
        "id": "view-in-github",
        "colab_type": "text"
      },
      "source": [
        "<a href=\"https://colab.research.google.com/github/mcanes76/mg-pytorch-deep-learning/blob/main/00_pytorch_fundamentals_exercises.ipynb\" target=\"_parent\"><img src=\"https://colab.research.google.com/assets/colab-badge.svg\" alt=\"Open In Colab\"/></a>"
      ]
    },
    {
      "cell_type": "code",
      "execution_count": null,
      "metadata": {
        "id": "03R0w_pGP3BE"
      },
      "outputs": [],
      "source": []
    },
    {
      "cell_type": "markdown",
      "source": [
        "#00.PyTorch Fundamentals Exercises\n",
        "##1. Documentation reading\n",
        "A big part of deep learning (and learning to code in general) is getting familiar with the documentation of a certain framework you're using.  We'll be using PyTorch documentation a lot throughout the rest of this course. So I'd recommend spedning 10-minutes reading the following (it's okay if you don't get some things for now, the focus is not yet full understanding, it's awareness):\n",
        "\n",
        "- The documentation on `torch.Tensor': https://pytorch.org/docs/stable/tensors.html#torch-tensor\n",
        "\n",
        "- The documentation on 'torch.cuda': https://pytorch.org/docs/master/notes/cuda.html#cuda-semantics"
      ],
      "metadata": {
        "id": "VZFlxbOcQHXE"
      }
    },
    {
      "cell_type": "code",
      "source": [
        "# No code as the assignment is to read the documentation in the links"
      ],
      "metadata": {
        "id": "XjuFyv4KUaL5"
      },
      "execution_count": null,
      "outputs": []
    },
    {
      "cell_type": "markdown",
      "source": [
        "#2. Create a random tensor with shape (7,7)"
      ],
      "metadata": {
        "id": "sg4iRjD4UhkR"
      }
    },
    {
      "cell_type": "code",
      "source": [
        "# Import torch\n",
        "import torch\n",
        "\n",
        "# Create random tensor\n",
        "T1_rand = torch.rand(7,7)\n",
        "print(T1_rand)"
      ],
      "metadata": {
        "colab": {
          "base_uri": "https://localhost:8080/"
        },
        "id": "V3ZZ2cLuV8sa",
        "outputId": "ad0df40e-06f5-45d6-c1c9-352c92560fa6"
      },
      "execution_count": 5,
      "outputs": [
        {
          "output_type": "stream",
          "name": "stdout",
          "text": [
            "tensor([[0.6645, 0.7183, 0.8554, 0.7040, 0.5511, 0.4463, 0.0911],\n",
            "        [0.2174, 0.3646, 0.0917, 0.8927, 0.5832, 0.4595, 0.4348],\n",
            "        [0.3601, 0.0011, 0.4529, 0.6208, 0.1518, 0.9934, 0.5268],\n",
            "        [0.3578, 0.2817, 0.8870, 0.6805, 0.8788, 0.6338, 0.4643],\n",
            "        [0.3128, 0.9499, 0.3349, 0.6560, 0.5388, 0.4328, 0.9804],\n",
            "        [0.8186, 0.0669, 0.8932, 0.6890, 0.1348, 0.3924, 0.5374],\n",
            "        [0.0077, 0.5913, 0.1057, 0.0561, 0.0583, 0.0074, 0.0239]])\n"
          ]
        }
      ]
    },
    {
      "cell_type": "markdown",
      "source": [
        "#3. Perform a matrix multiplication on the tensor from 2 with another random tensor with shape (1,7) (hint: you may need to transpose the second tensor)."
      ],
      "metadata": {
        "id": "dgrWzWRLWv1l"
      }
    },
    {
      "cell_type": "code",
      "source": [
        "# Create another random tensor\n",
        "T2_rand = torch.rand(1,7)\n",
        "T2_rand\n",
        "\n",
        "# Perform matrix multiplication\n",
        "T3_matmult = torch.matmul(T1_rand, T2_rand.T)\n",
        "T3_matmult"
      ],
      "metadata": {
        "colab": {
          "base_uri": "https://localhost:8080/"
        },
        "id": "8SV0CL1HXCwc",
        "outputId": "05ccf8c1-f6b0-4f24-d36a-55891e4ae443"
      },
      "execution_count": 10,
      "outputs": [
        {
          "output_type": "execute_result",
          "data": {
            "text/plain": [
              "tensor([[1.9794],\n",
              "        [1.3091],\n",
              "        [1.1908],\n",
              "        [1.6349],\n",
              "        [2.2597],\n",
              "        [1.6014],\n",
              "        [0.6414]])"
            ]
          },
          "metadata": {},
          "execution_count": 10
        }
      ]
    },
    {
      "cell_type": "markdown",
      "source": [
        "#4. Set the random seed to `0` and do 2 & 3 over again\n",
        "\n",
        "The output should be:\n",
        "\n",
        "(tensor([[1.8542],\n",
        "         [1.9611],\n",
        "         [2.2884],\n",
        "         [3.0481],\n",
        "         [1.7067],\n",
        "         [2.5290],\n",
        "         [1.7989]]), torch.Size([7, 1]))"
      ],
      "metadata": {
        "id": "H_pAOuxSYadX"
      }
    },
    {
      "cell_type": "code",
      "source": [
        "# Set the manual seed\n",
        "RANDOM_SEED = 0\n",
        "torch.manual_seed(RANDOM_SEED)\n",
        "\n",
        "T1_randS0 = torch.rand(7,7)\n",
        "print(f\"T1_randS0 = {T1_randS0}\")\n",
        "\n",
        "T2_randS0 = torch.rand(1,7)\n",
        "print(f\"T2_randS0 = {T2_randS0}\")\n",
        "\n",
        "T3_matmultS0 = torch.matmul(T1_randS0, T2_randS0.T)\n",
        "print(f\"T3_matmultS0 = {T3_matmultS0}\")"
      ],
      "metadata": {
        "colab": {
          "base_uri": "https://localhost:8080/"
        },
        "id": "VyLgIMEsYpw2",
        "outputId": "a0022de8-63aa-4b8c-fabe-5fd206d7f5af"
      },
      "execution_count": 13,
      "outputs": [
        {
          "output_type": "stream",
          "name": "stdout",
          "text": [
            "T1_randS0 = tensor([[0.4963, 0.7682, 0.0885, 0.1320, 0.3074, 0.6341, 0.4901],\n",
            "        [0.8964, 0.4556, 0.6323, 0.3489, 0.4017, 0.0223, 0.1689],\n",
            "        [0.2939, 0.5185, 0.6977, 0.8000, 0.1610, 0.2823, 0.6816],\n",
            "        [0.9152, 0.3971, 0.8742, 0.4194, 0.5529, 0.9527, 0.0362],\n",
            "        [0.1852, 0.3734, 0.3051, 0.9320, 0.1759, 0.2698, 0.1507],\n",
            "        [0.0317, 0.2081, 0.9298, 0.7231, 0.7423, 0.5263, 0.2437],\n",
            "        [0.5846, 0.0332, 0.1387, 0.2422, 0.8155, 0.7932, 0.2783]])\n",
            "T2_randS0 = tensor([[0.4820, 0.8198, 0.9971, 0.6984, 0.5675, 0.8352, 0.2056]])\n",
            "T3_matmultS0 = tensor([[1.8542],\n",
            "        [1.9611],\n",
            "        [2.2884],\n",
            "        [3.0481],\n",
            "        [1.7067],\n",
            "        [2.5290],\n",
            "        [1.7989]])\n"
          ]
        }
      ]
    },
    {
      "cell_type": "markdown",
      "source": [
        "#5. Speaking of random seeds, we saw how to set it with `torch.manual_seed()` but is there a GPU equivalent? (hint: you'll need to look into the documentation for `torch.cuda` for this one)\n",
        "\n",
        "- If there is, set the GPU random seed to `1234`."
      ],
      "metadata": {
        "id": "bVUvyiBTaWL6"
      }
    },
    {
      "cell_type": "code",
      "source": [
        "# Set random seed on GPU\n",
        "import torch\n",
        "\n",
        "RANDOM_SEED_GPU = 1234\n",
        "RANDOM_SEED_CPU = 42\n",
        "\n",
        "torch.cuda.is_available()\n",
        "\n",
        "device = \"cuda\" if torch.cuda.is_available() else \"cpu\"\n",
        "\n",
        "if torch.cuda.is_available():\n",
        "  torch.manual_seed(RANDOM_SEED_GPU)\n",
        "else:\n",
        "  torch.use_deterministic_algorithms(True)\n",
        "  torch.manual_seed(RANDOM_SEED_CPU)\n",
        "\n",
        "print(device)\n",
        "print(torch.rand(2))"
      ],
      "metadata": {
        "colab": {
          "base_uri": "https://localhost:8080/"
        },
        "id": "mhZAbv7paz-B",
        "outputId": "0d659824-ca1f-4361-ccce-5a9209fe0d7c"
      },
      "execution_count": 27,
      "outputs": [
        {
          "output_type": "stream",
          "name": "stdout",
          "text": [
            "cpu\n",
            "tensor([0.8823, 0.9150])\n"
          ]
        }
      ]
    }
  ]
}